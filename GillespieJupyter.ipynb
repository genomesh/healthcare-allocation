{
 "cells": [
  {
   "cell_type": "markdown",
   "metadata": {},
   "source": [
    "# Gillespie Algorithm for a SIR Model with Wise and Risky Indiviuals\n",
    "### by Luca Sbano (Theory & Implementation) and Steffen Bauer (Implementation & Jupyter)\n",
    "***"
   ]
  },
  {
   "cell_type": "markdown",
   "metadata": {},
   "source": [
    "__Definitions:__\n",
    "<br>\n",
    "\n",
    "|Variable | Meaning                                             |\n",
    "|---------|-----------------------------------------------------|\n",
    "|$W$:     | susceptible and wise                                |\n",
    "|$R$:     | susceptible and risky                               |\n",
    "|$I$:     | infectious                                          |\n",
    "|$D$:     | dead                                                |\n",
    "|$S$:     | individuals cured and who can no longer be infected |"
   ]
  },
  {
   "cell_type": "markdown",
   "metadata": {},
   "source": [
    "__Reactions:__\n",
    "<br>\n",
    "$$\n",
    "\\begin{align}\n",
    "    W &\\rightarrow^a R\\\\\n",
    "    R &\\rightarrow^{\\alpha} W\\\\\n",
    "    R + I &\\rightarrow^c 2I\\\\\n",
    "    W + I &\\rightarrow^b 2I\\\\\n",
    "    I &\\rightarrow^{\\beta} W\\\\\n",
    "    I &\\rightarrow^d D\\\\\n",
    "    I &\\rightarrow^{\\rho} S\n",
    "\\end{align}\n",
    "$$"
   ]
  },
  {
   "cell_type": "markdown",
   "metadata": {},
   "source": [
    "## Algorithm\n",
    "\n",
    ">1. Generate two random numbers $r_1$, $r_2$ uniformly distributed in\n",
    "$[0, 1]$.\n",
    "2. Compute $\\mathcal{R}_0 := \\sum_{j=1}^r \\mathcal{R}_j$.\n",
    "3. Compute $\\tau := \\frac{1}{\\mathcal{R}_0} \\ln[\\frac{1}{r_1}]$.\n",
    "4. Set time of next rule execution to $t + \\tau$.\n",
    "5. Compute wich rule is executed at time $t + \\tau$. Find $j$ such that\n",
    "$$\n",
    "\\frac{1}{\\mathcal{R}_0} \\sum_{i=1}^{j-1} \\mathcal{R}_i < r_2 \\leq  \\frac{1}{\\mathcal{R}_0} \\sum_{i=1}^{j} \\mathcal{R}_i\n",
    "$$\n",
    "6. Execute rule $R_j$ and update to new system configuration.\n",
    "7. Go to step 1 with updated time $t::= t + \\tau$ (where $::=$ means replacement) if $t < T$, otherwise stop.\n",
    "\n",
    "(If you want to see Daniel Gillespie presenting his algorithm in 2017, go to [youtube](https://youtu.be/atOc2v8Wtcw).)"
   ]
  },
  {
   "cell_type": "markdown",
   "metadata": {},
   "source": [
    "## Implementation"
   ]
  },
  {
   "cell_type": "markdown",
   "metadata": {},
   "source": [
    "First load some libraries:"
   ]
  },
  {
   "cell_type": "code",
   "execution_count": 2,
   "metadata": {},
   "outputs": [],
   "source": [
    "import numpy as np\n",
    "import matplotlib.pyplot as plt\n",
    "\n",
    "from ipywidgets import interact\n",
    "from IPython.display import display"
   ]
  },
  {
   "cell_type": "markdown",
   "metadata": {},
   "source": [
    "Define the algorithm [above](#Algorithm) as a function (later used for interactivity):"
   ]
  },
  {
   "cell_type": "code",
   "execution_count": 4,
   "metadata": {},
   "outputs": [],
   "source": [
    "def gillespie(rWiseToRisky     = 0.1, \n",
    "              rRiskyToWise     = 0.03, \n",
    "              rWiseToInfected  = 0.001, \n",
    "              rRiskyToInfected = 0.01,\n",
    "              rCure            = 0.2,\n",
    "              rFatalities      = 0.08,\n",
    "              rRecover         =0.1\n",
    "             ):\n",
    "    '''\n",
    "    Gillespie algorithm to solve SIR model for wise and risky people\n",
    "    Implementation of Gillespie algorithm and SIR model: Luca Sbano\n",
    "    Slight modifications for interactivity with slider : Steffen Bauer\n",
    "    '''\n",
    "    \n",
    "    # Input parameters \n",
    "    N     = 200              #        int;   total population  \n",
    "    T     = 100.0            #        float; maximum elapsed time \n",
    "    t     = 0.0              #        float; start time\n",
    "    a     = rWiseToRisky     # (0.1)  float; rate of wise to risky\n",
    "    alpha = rRiskyToWise     # (0.03) float; rate of risky to wise\n",
    "    b     = rWiseToInfected  # (0.001)float; rate of wise to infected\n",
    "    c     = rRiskyToInfected # (0.01) float; rate of risky to infected\n",
    "    beta  = rCure            # (0.2)  float; rate of cure\n",
    "    d     = rFatalities      # (0.08) float; rate of fatalities\n",
    "    rho   = rRecover         # (0.1)  float; rate of recovering and getting immunity\n",
    "    \n",
    "    n_I   = 1                #        int;   initial Infected population\n",
    "    n_D   = 0                #        int;   initial conditions on Dead people \n",
    "    n_S   = 0                #        int;   initial conditions on Saved people \n",
    "    n_R   = 50               #        int;   initial conditions on Risky people\n",
    "    n_W   = N - n_I - n_R    #        int;   initial conditions on Wise people\n",
    "\n",
    "    # Initialize results list\n",
    "    MAXITER       = 10000\n",
    "    SIR_data      = np.zeros((MAXITER, 6))\n",
    "    SIR_data[0,:] = [t, n_W, n_I, n_R, n_S, n_D]\n",
    "\n",
    "    it = 0\n",
    "    # Main loop\n",
    "    while t < T and it < MAXITER:\n",
    "        if n_I == 0:\n",
    "            break\n",
    "        it += 1\n",
    "\n",
    "        # Rates/Weights calculation\n",
    "        w1 = a * n_W\n",
    "        w2 = alpha * n_R\n",
    "        w3 = c * n_I * n_R\n",
    "        w4 = b * n_I * n_W\n",
    "        w5 = beta * n_I\n",
    "        w6 = d * n_I\n",
    "        w7 = rho * n_I\n",
    "        W  = w1 + w2 + w3 + w4 + w5 + w6 + w7\n",
    "        \n",
    "        # First uniformily distributed ranmdom number\n",
    "        r_1 = np.random.uniform(0.0, 1.0)\n",
    "        # Time increment\n",
    "        dt  = -np.log(r_1) / W\n",
    "        t   = t + dt\n",
    "\n",
    "        #Second uniformily distributed ranmdom number\n",
    "        r_2 = np.random.uniform(0.0, 1.0)\n",
    "    \n",
    "        #Choice of the reaction according to the probabilities\n",
    "        if r_2 < w1 / W:\n",
    "            n_W = n_W - 1\n",
    "            n_R = n_R + 1\n",
    "        if r_2>=w1/W and r_2 < (w1+w2) / W:\n",
    "            n_R = n_R - 1\n",
    "            n_W = n_W + 1\n",
    "        if r_2>=(w1+w2)/W and r_2 < (w1+w2+w3)/W:\n",
    "            n_R = n_R - 1\n",
    "            n_I = n_I + 1\n",
    "        if r_2>=(w1+w2+w3)/W and r_2 < (w1+w2+w3+w4)/W:\n",
    "            n_W = n_W - 1\n",
    "            n_I = n_I + 1\n",
    "        if r_2>=(w1+w2+w3+w4)/W and r_2 < (w1+w2+w3+w4+w5)/W:\n",
    "            n_I = n_I - 1\n",
    "            n_W = n_W + 1\n",
    "        if r_2>=(w1+w2+w3+w4+w5)/W and r_2< (w1+w2+w3+w4+w5+w6)/W:\n",
    "            n_I = n_I - 1\n",
    "            n_D = n_D + 1\n",
    "        if r_2 >(w1+w2+w3+w4+w5+w6)/W:\n",
    "            n_I = n_I - 1\n",
    "            n_S = n_S + 1\n",
    "        \n",
    "        #print(\"{:f} \\t {:d} \\t {:d} \\t {:d} \\t {:d} \\t {:d}\".format(t, n_W, n_I, n_R, n_S, n_D))\n",
    "        SIR_data[it, :] = [t, n_W, n_I, n_R, n_S, n_D]\n",
    "\n",
    "\n",
    "    #Plotting\n",
    "    SIR  = SIR_data[:it,:]\n",
    "    time = SIR[:,0]\n",
    "    nW   = SIR[:,1]\n",
    "    nI   = SIR[:,2]\n",
    "    nR   = SIR[:,3]\n",
    "    nS   = SIR[:,4]\n",
    "    nD   = SIR[:,5]\n",
    "\n",
    "    fig, ax = plt.subplots(figsize=(15,5))\n",
    "    line1,=ax.plot(time,nW, label='$n_W$')\n",
    "    line2,=ax.plot(time,nI, label='$n_I$')\n",
    "    line3,=ax.plot(time,nR, label='$n_R$')\n",
    "    line4,=ax.plot(time,nS, label='$n_S$')\n",
    "    line5,=ax.plot(time,nD, label='$n_D$')\n",
    "    \n",
    "    legend = ax.legend(bbox_to_anchor=(1.04,0.5), loc='center left', shadow=True, fontsize='x-large')\n",
    "    ax.set_xlim(0., T)\n",
    "    ax.set_ylim(0., N)\n",
    "    \n",
    "    plt.title('Simulation of a SIR model')\n",
    "    plt.xlabel('time')\n",
    "    plt.ylabel('Individuals')\n",
    "\n",
    "    plt.show()"
   ]
  },
  {
   "cell_type": "markdown",
   "metadata": {},
   "source": [
    "You could call the function simply by \n",
    "`gillespie()` or `gillespie(rWiseToRisky = 0.8)` if you want to chance the parameters / reaction rates.\n",
    "\n",
    "But we can add interactivity by simply using `interact(function, paramters = (min, max, stepsize))`. And we get some lovely sliders.\n",
    "\n",
    "_(Please, be patient and wait for updating of the graph.)_"
   ]
  },
  {
   "cell_type": "code",
   "execution_count": 6,
   "metadata": {},
   "outputs": [
    {
     "data": {
      "application/vnd.jupyter.widget-view+json": {
       "model_id": "020b420aa68d40869c9e04ad1821f7c4",
       "version_major": 2,
       "version_minor": 0
      },
      "text/plain": [
       "interactive(children=(FloatSlider(value=0.1, description='rWiseToRisky', max=1.0, step=0.01), FloatSlider(valu…"
      ]
     },
     "metadata": {},
     "output_type": "display_data"
    },
    {
     "data": {
      "text/plain": [
       "<function __main__.gillespie(rWiseToRisky=0.1, rRiskyToWise=0.03, rWiseToInfected=0.001, rRiskyToInfected=0.01, rCure=0.2, rFatalities=0.08, rRecover=0.1)>"
      ]
     },
     "execution_count": 6,
     "metadata": {},
     "output_type": "execute_result"
    }
   ],
   "source": [
    "interact(gillespie, rWiseToRisky     = (0.,1.,0.01), \n",
    "                    rRiskyToWise     = (0.,1.,0.01), \n",
    "                    rWiseToInfected  = (0.,1.,0.001),\n",
    "                    rRiskyToInfected = (0.,1.,0.01),\n",
    "                    rCure            = (0.,1.,0.01),\n",
    "                    rFatalities      = (0.,1.,0.01),\n",
    "                    rRecover         = (0.,1.,0.01))"
   ]
  },
  {
   "cell_type": "markdown",
   "metadata": {},
   "source": [
    "Now it's time to play with all these parameters. Choose them wisely!;-P"
   ]
  }
 ],
 "metadata": {
  "kernelspec": {
   "display_name": "Python 3 (ipykernel)",
   "language": "python",
   "name": "python3"
  },
  "language_info": {
   "codemirror_mode": {
    "name": "ipython",
    "version": 3
   },
   "file_extension": ".py",
   "mimetype": "text/x-python",
   "name": "python",
   "nbconvert_exporter": "python",
   "pygments_lexer": "ipython3",
   "version": "3.9.6"
  }
 },
 "nbformat": 4,
 "nbformat_minor": 4
}
